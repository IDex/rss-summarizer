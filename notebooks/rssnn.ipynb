{
 "cells": [
  {
   "cell_type": "code",
   "execution_count": 1283,
   "metadata": {
    "collapsed": false
   },
   "outputs": [],
   "source": [
    "%matplotlib inline\n",
    "import scipy as sc\n",
    "import matplotlib.pyplot as plt\n",
    "import pandas as pd\n",
    "import feedparser as fp\n",
    "import re\n",
    "import pickle\n",
    "from collections import Counter\n",
    "from sklearn import feature_extraction, naive_bayes, neural_network, preprocessing, svm, model_selection, pipeline, decomposition, cluster"
   ]
  },
  {
   "cell_type": "code",
   "execution_count": 1284,
   "metadata": {
    "collapsed": true
   },
   "outputs": [],
   "source": [
    "def print_full(x):\n",
    "    pd.set_option('display.max_rows', len(x))\n",
    "    print(x)\n",
    "    pd.reset_option('display.max_rows')"
   ]
  },
  {
   "cell_type": "markdown",
   "metadata": {
    "collapsed": true
   },
   "source": [
    "f1=fp.parse('https://www.nyaa.se/?page=rss&cats=1_37&term=horri+01&filter=2').entries\n",
    "f2=fp.parse('https://www.tokyotosho.info/rss.php?filter=1&entries=450').entries\n",
    "f3=fp.parse('https://www.nyaa.se/?page=rss&cats=1_37&term=01+720&filter=2&minsize=0&maxsize=600').entries\n",
    "f4=fp.parse('https://www.nyaa.se/?page=rss&cats=1_37&filter=2&maxsize=600').entries"
   ]
  },
  {
   "cell_type": "code",
   "execution_count": 1285,
   "metadata": {
    "collapsed": true
   },
   "outputs": [],
   "source": [
    "my=\"\"\"[HorribleSubs] Drifters - 02 [720p].mkv\n",
    "[HorribleSubs] Drifters - 01v2 [720p].mkv\n",
    "[HorribleSubs] Shuumatsu no Izetta - 11 [720p].mkv\n",
    "[HorribleSubs] Shuumatsu no Izetta - 08 [720p].mkv\n",
    "[HorribleSubs] Shuumatsu no Izetta - 07 [720p].mkv\n",
    "[HorribleSubs] Shuumatsu no Izetta - 10 [720p].mkv\n",
    "[HorribleSubs] Shuumatsu no Izetta - 09 [720p].mkv\n",
    "[IEgg] Fate／Kaleid Liner Prisma Illya Zwei! Character Song Prisma☆Love Parade Vol.2 (320K+BK).zip\n",
    "[IEgg] Fate／Kaleid Liner Prisma Illya Zwei! Character Song Prisma☆Love Parade Vol.1 (320K+BK).zip\n",
    "Discworld\n",
    "[얼티메이트] [150128] TVアニメ「Fate／kaleid liner プリズマ☆イリヤ ツヴァイ！」キャラクターソング Prisma☆Love Parade Vol.3 (320K+BK)\n",
    "[Nipponsei] Fate Kaleid Liner Prisma Illya Original Soundtrack.zip\n",
    "[HorribleSubs] Fate Kaleid Liner PRISMA ILLYA 3rei!! - 11 [720p].mkv\n",
    "[HorribleSubs] Fate Kaleid Liner PRISMA ILLYA 3rei!! - 12 [720p].mkv\n",
    "[HorribleSubs] Show By Rock!! - 01 [720p].mkv\n",
    "[HorribleSubs] Amanchu! - 07 [720p].mkv\n",
    "[HorribleSubs] Amanchu! - 09 [720p].mkv\n",
    "[HorribleSubs] Amanchu! - 08 [720p].mkv\n",
    "[HorribleSubs] Amanchu! - 10 [720p].mkv\n",
    "[SanKyuu] Hikaru no Go [BD 720p AAC]\n",
    "Log_Horizon_v01-08-txt.zip\n",
    "FELT\n",
    "[Chihiro]_Occultic;Nine_-_01_[720p_Hi10P_AAC][A3A543B3].mkv\n",
    "[CTSHiryuu] Brave Witches - 01 [720p H264 AAC][2B965D44].mkv\n",
    "[HorribleSubs] Girlish Number - 01 [720p].mkv\n",
    "[HorribleSubs] Brave Witches - 01 [720p].mkv\n",
    "[HorribleSubs] Mahou Shoujo Ikusei Keikaku - 01 [720p].mkv\n",
    "[HorribleSubs] Mob Psycho 100 - 01 [720p].mkv\n",
    "[HorribleSubs] Shuumatsu no Izetta - 01 [720p].mkv\"\"\".split('\\n')"
   ]
  },
  {
   "cell_type": "code",
   "execution_count": 1286,
   "metadata": {
    "collapsed": false
   },
   "outputs": [],
   "source": [
    "my_titles = pd.DataFrame([(' '.join(re.findall('[a-z]+|[0-9]+p',x.lower())),1) for x in my], columns=['text','class'])\n",
    "#my_titles = pd.DataFrame([(x,1) for x in my], columns=['text','class'])"
   ]
  },
  {
   "cell_type": "code",
   "execution_count": 1287,
   "metadata": {
    "collapsed": false
   },
   "outputs": [],
   "source": [
    "ft=f1+f2+f3+f4\n",
    "titles=pd.DataFrame([(' '.join(re.findall('[a-z]+|[0-9]+p',x['title'].lower())),0) for x in ft], columns=['text','class'])\n",
    "#titles=pd.DataFrame([(x['title'],0) for x in ft], columns=['text','class'])\n",
    "\n",
    "\n",
    "#titles.drop_duplicates(inplace=True)\n",
    "#my_titles.drop_duplicates(inplace=True)\n",
    "\n",
    "#titles.update(my_titles, join='left')\n",
    "\n",
    "tot=titles[~titles['text'].isin(my_titles['text'])].dropna()\n",
    "#tot=titles.select(lambda x: x not in my_titles['text'])\n",
    "#tot = titles\n",
    "tot = my_titles.append(tot)\n",
    "#[x for x in tot['text'].values if x in my_titles['text'].values]\n",
    "#tot = titles\n",
    "#tot['class'] = tot['class'].astype('int64')\n",
    "tot.reset_index(inplace=True, drop=True)\n",
    "#tot.loc[tot.text.duplicated(), :]"
   ]
  },
  {
   "cell_type": "code",
   "execution_count": 1288,
   "metadata": {
    "collapsed": false
   },
   "outputs": [],
   "source": [
    "cvr=feature_extraction.text.CountVectorizer(ngram_range=(1,1))"
   ]
  },
  {
   "cell_type": "code",
   "execution_count": 1289,
   "metadata": {
    "collapsed": false
   },
   "outputs": [],
   "source": [
    "m=cvr.fit_transform(tot['text'].values)"
   ]
  },
  {
   "cell_type": "code",
   "execution_count": 1290,
   "metadata": {
    "collapsed": false
   },
   "outputs": [
    {
     "data": {
      "text/plain": [
       "(423, 404)"
      ]
     },
     "execution_count": 1290,
     "metadata": {},
     "output_type": "execute_result"
    }
   ],
   "source": [
    "X=m.toarray()\n",
    "r=tot['class'].values\n",
    "X.shape"
   ]
  },
  {
   "cell_type": "code",
   "execution_count": 1291,
   "metadata": {
    "collapsed": false
   },
   "outputs": [],
   "source": [
    "est = [\n",
    "    ('cvr', feature_extraction.text.CountVectorizer(ngram_range=(1,1))), \n",
    "    ('pca', decomposition.TruncatedSVD(n_components=200)), \n",
    "    ('clf', neural_network.MLPClassifier(max_iter=2000, learning_rate='adaptive'))]\n",
    "pip = pipeline.Pipeline(est)"
   ]
  },
  {
   "cell_type": "code",
   "execution_count": 1292,
   "metadata": {
    "collapsed": false
   },
   "outputs": [],
   "source": [
    "pd_comb = dict(\n",
    "    clf__activation=['identity', 'logistic', 'tanh', 'relu'],\n",
    "    clf__solver=['lbfgs','adam'],\n",
    "    clf__hidden_layer_sizes=sc.stats.randint(1,50+1),\n",
    "    pca__n_components=sc.stats.randint(1,50+1),\n",
    "    #clf__beta_1=sc.stats.uniform(scale=1),\n",
    "    #clf__beta_2=sc.stats.uniform(scale=1), \n",
    "    #clf__epsilon=sc.stats.expon(scale=1e-08),\n",
    "    #clf__learning_rate_init=sc.stats.expon(scale=0.001),\n",
    "    #clf__momentum=sc.stats.uniform(scale=1),\n",
    "    #clf__power_t=sc.stats.expon(scale=0.5),\n",
    "    #clf__tol=sc.stats.expon(scale=0.0001),\n",
    "    #clf__validation_fraction=sc.stats.expon(scale=0.1),\n",
    "    #cvr__min_df=[1,2,3],\n",
    "    #cvr__max_df=sc.stats.uniform(scale=1),\n",
    "    #cvr__ngram_range=[(1,x) for x in range(1,4+1)]\n",
    ")"
   ]
  },
  {
   "cell_type": "code",
   "execution_count": 1293,
   "metadata": {
    "collapsed": false
   },
   "outputs": [
    {
     "name": "stdout",
     "output_type": "stream",
     "text": [
      "Fitting 5 folds for each of 50 candidates, totalling 250 fits\n"
     ]
    },
    {
     "name": "stderr",
     "output_type": "stream",
     "text": [
      "[Parallel(n_jobs=-1)]: Done  73 tasks      | elapsed:   37.5s\n",
      "[Parallel(n_jobs=-1)]: Done 223 tasks      | elapsed:  1.3min\n",
      "[Parallel(n_jobs=-1)]: Done 250 out of 250 | elapsed:  1.5min finished\n"
     ]
    },
    {
     "data": {
      "text/plain": [
       "RandomizedSearchCV(cv=5, error_score=0,\n",
       "          estimator=Pipeline(steps=[('cvr', CountVectorizer(analyzer='word', binary=False, decode_error='strict',\n",
       "        dtype=<class 'numpy.int64'>, encoding='utf-8', input='content',\n",
       "        lowercase=True, max_df=1.0, max_features=None, min_df=1,\n",
       "        ngram_range=(1, 1), preprocessor=None, stop_words=None,\n",
       "        strip_...=True, solver='adam', tol=0.0001, validation_fraction=0.1,\n",
       "       verbose=False, warm_start=False))]),\n",
       "          fit_params={}, iid=True, n_iter=50, n_jobs=-1,\n",
       "          param_distributions={'pca__n_components': <scipy.stats._distn_infrastructure.rv_frozen object at 0x7ff561ba60f0>, 'clf__hidden_layer_sizes': <scipy.stats._distn_infrastructure.rv_frozen object at 0x7ff561ba6cf8>, 'clf__solver': ['lbfgs', 'adam'], 'clf__activation': ['identity', 'logistic', 'tanh', 'relu']},\n",
       "          pre_dispatch='2*n_jobs', random_state=None, refit=True,\n",
       "          return_train_score=True, scoring=None, verbose=1)"
      ]
     },
     "execution_count": 1293,
     "metadata": {},
     "output_type": "execute_result"
    }
   ],
   "source": [
    "rrclf = model_selection.RandomizedSearchCV(\n",
    "    pip,\n",
    "    pd_comb,\n",
    "    error_score=0,\n",
    "    cv=5,\n",
    "    n_jobs=-1,\n",
    "    verbose=1,\n",
    "    n_iter=50)\n",
    "rrclf.fit(tot['text'],r)"
   ]
  },
  {
   "cell_type": "code",
   "execution_count": 1294,
   "metadata": {
    "collapsed": false
   },
   "outputs": [
    {
     "data": {
      "text/plain": [
       "(0.94326241134751776,\n",
       " {'clf__activation': 'logistic',\n",
       "  'clf__hidden_layer_sizes': 7,\n",
       "  'clf__solver': 'lbfgs',\n",
       "  'pca__n_components': 6})"
      ]
     },
     "execution_count": 1294,
     "metadata": {},
     "output_type": "execute_result"
    }
   ],
   "source": [
    "cvrclf=rrclf.best_estimator_\n",
    "rrclf.best_score_, rrclf.best_params_, #sum(rrclf.best_estimator_.named_steps['pca'].explained_variance_ratio_), sc.std(rrclf.cv_results_['mean_test_score'])"
   ]
  },
  {
   "cell_type": "code",
   "execution_count": 1295,
   "metadata": {
    "collapsed": false
   },
   "outputs": [
    {
     "data": {
      "text/plain": [
       "{'identity': 0, 'logistic': 1, 'relu': 3, 'tanh': 2}"
      ]
     },
     "execution_count": 1295,
     "metadata": {},
     "output_type": "execute_result"
    }
   ],
   "source": [
    "aczip = zip(['identity', 'logistic', 'tanh', 'relu'], list(range(4)))\n",
    "acmap = {x:y for x,y in aczip}\n",
    "acmap"
   ]
  },
  {
   "cell_type": "code",
   "execution_count": 1296,
   "metadata": {
    "collapsed": false
   },
   "outputs": [
    {
     "ename": "KeyError",
     "evalue": "'param_cvr__ngram_range'",
     "output_type": "error",
     "traceback": [
      "\u001b[0;31m---------------------------------------------------------------------------\u001b[0m",
      "\u001b[0;31mKeyError\u001b[0m                                  Traceback (most recent call last)",
      "\u001b[0;32m<ipython-input-1296-d9375f3aabc1>\u001b[0m in \u001b[0;36m<module>\u001b[0;34m()\u001b[0m\n\u001b[1;32m      6\u001b[0m \u001b[0mplt\u001b[0m\u001b[0;34m.\u001b[0m\u001b[0mplot\u001b[0m\u001b[0;34m(\u001b[0m\u001b[0mlist\u001b[0m\u001b[0;34m(\u001b[0m\u001b[0mint\u001b[0m\u001b[0;34m(\u001b[0m\u001b[0mx\u001b[0m\u001b[0;34m)\u001b[0m \u001b[0;32mfor\u001b[0m \u001b[0mx\u001b[0m \u001b[0;32min\u001b[0m \u001b[0mrrclf\u001b[0m\u001b[0;34m.\u001b[0m\u001b[0mcv_results_\u001b[0m\u001b[0;34m[\u001b[0m\u001b[0;34m'param_pca__n_components'\u001b[0m\u001b[0;34m]\u001b[0m\u001b[0;34m)\u001b[0m\u001b[0;34m,\u001b[0m \u001b[0mrrclf\u001b[0m\u001b[0;34m.\u001b[0m\u001b[0mcv_results_\u001b[0m\u001b[0;34m[\u001b[0m\u001b[0;34m'mean_test_score'\u001b[0m\u001b[0;34m]\u001b[0m\u001b[0;34m,\u001b[0m \u001b[0;34m'.'\u001b[0m\u001b[0;34m)\u001b[0m\u001b[0;34m\u001b[0m\u001b[0m\n\u001b[1;32m      7\u001b[0m \u001b[0mplt\u001b[0m\u001b[0;34m.\u001b[0m\u001b[0mfigure\u001b[0m\u001b[0;34m(\u001b[0m\u001b[0;34m)\u001b[0m\u001b[0;34m\u001b[0m\u001b[0m\n\u001b[0;32m----> 8\u001b[0;31m \u001b[0mplt\u001b[0m\u001b[0;34m.\u001b[0m\u001b[0mplot\u001b[0m\u001b[0;34m(\u001b[0m\u001b[0mlist\u001b[0m\u001b[0;34m(\u001b[0m\u001b[0mint\u001b[0m\u001b[0;34m(\u001b[0m\u001b[0mx\u001b[0m\u001b[0;34m[\u001b[0m\u001b[0;36m1\u001b[0m\u001b[0;34m]\u001b[0m\u001b[0;34m)\u001b[0m \u001b[0;32mfor\u001b[0m \u001b[0mx\u001b[0m \u001b[0;32min\u001b[0m \u001b[0mrrclf\u001b[0m\u001b[0;34m.\u001b[0m\u001b[0mcv_results_\u001b[0m\u001b[0;34m[\u001b[0m\u001b[0;34m'param_cvr__ngram_range'\u001b[0m\u001b[0;34m]\u001b[0m\u001b[0;34m)\u001b[0m\u001b[0;34m,\u001b[0m \u001b[0mrrclf\u001b[0m\u001b[0;34m.\u001b[0m\u001b[0mcv_results_\u001b[0m\u001b[0;34m[\u001b[0m\u001b[0;34m'mean_test_score'\u001b[0m\u001b[0;34m]\u001b[0m\u001b[0;34m,\u001b[0m \u001b[0;34m'.'\u001b[0m\u001b[0;34m)\u001b[0m\u001b[0;34m\u001b[0m\u001b[0m\n\u001b[0m\u001b[1;32m      9\u001b[0m \u001b[0;31m#\u001b[0m\u001b[0;34m\u001b[0m\u001b[0;34m\u001b[0m\u001b[0m\n",
      "\u001b[0;31mKeyError\u001b[0m: 'param_cvr__ngram_range'"
     ]
    },
    {
     "data": {
      "image/png": "[encoded data removed]",
      "text/plain": [
       "<matplotlib.figure.Figure at 0x7ff561b07080>"
      ]
     },
     "metadata": {},
     "output_type": "display_data"
    },
    {
     "data": {
      "image/png": "[encoded data removed]",
      "text/plain": [
       "<matplotlib.figure.Figure at 0x7ff561b079b0>"
      ]
     },
     "metadata": {},
     "output_type": "display_data"
    },
    {
     "data": {
      "image/png": "[encoded data removed]",
      "text/plain": [
       "<matplotlib.figure.Figure at 0x7ff561a7bac8>"
      ]
     },
     "metadata": {},
     "output_type": "display_data"
    },
    {
     "data": {
      "text/plain": [
       "<matplotlib.figure.Figure at 0x7ff561967a90>"
      ]
     },
     "metadata": {},
     "output_type": "display_data"
    }
   ],
   "source": [
    "\n",
    "plt.plot(list(int(acmap[x]) for x in rrclf.cv_results_['param_clf__activation']), rrclf.cv_results_['mean_test_score'], '.')\n",
    "plt.figure()\n",
    "plt.plot(list(int(x) for x in rrclf.cv_results_['param_clf__hidden_layer_sizes']), rrclf.cv_results_['mean_test_score'], '.')\n",
    "plt.figure()\n",
    "plt.plot(list(int(x) for x in rrclf.cv_results_['param_pca__n_components']), rrclf.cv_results_['mean_test_score'], '.')\n",
    "plt.figure()\n",
    "plt.plot(list(int(x[1]) for x in rrclf.cv_results_['param_cvr__ngram_range']), rrclf.cv_results_['mean_test_score'], '.')\n",
    "#"
   ]
  },
  {
   "cell_type": "code",
   "execution_count": 1298,
   "metadata": {
    "collapsed": false
   },
   "outputs": [
    {
     "name": "stdout",
     "output_type": "stream",
     "text": [
      "Fitting 5 folds for each of 100 candidates, totalling 500 fits\n"
     ]
    },
    {
     "name": "stderr",
     "output_type": "stream",
     "text": [
      "[Parallel(n_jobs=-1)]: Done  42 tasks      | elapsed:   35.4s\n",
      "[Parallel(n_jobs=-1)]: Done 192 tasks      | elapsed:  2.3min\n",
      "[Parallel(n_jobs=-1)]: Done 442 tasks      | elapsed:  5.1min\n",
      "[Parallel(n_jobs=-1)]: Done 500 out of 500 | elapsed:  5.8min finished\n"
     ]
    },
    {
     "data": {
      "text/plain": [
       "RandomizedSearchCV(cv=5, error_score=0,\n",
       "          estimator=Pipeline(steps=[('countvectorizer', CountVectorizer(analyzer='word', binary=False, decode_error='strict',\n",
       "        dtype=<class 'numpy.int64'>, encoding='utf-8', input='content',\n",
       "        lowercase=True, max_df=1.0, max_features=None, min_df=1,\n",
       "        ngram_range=(1, 1), preprocessor=None, stop_words=None,\n",
       "  ...8, n_init=10, n_jobs=1, precompute_distances='auto',\n",
       "    random_state=None, tol=0.0001, verbose=0))]),\n",
       "          fit_params={}, iid=True, n_iter=100, n_jobs=-1,\n",
       "          param_distributions={'kmeans__n_clusters': <scipy.stats._distn_infrastructure.rv_frozen object at 0x7ff561c4acf8>},\n",
       "          pre_dispatch='2*n_jobs', random_state=None, refit=True,\n",
       "          return_train_score=True, scoring=None, verbose=1)"
      ]
     },
     "execution_count": 1298,
     "metadata": {},
     "output_type": "execute_result"
    }
   ],
   "source": [
    "#kmeans\n",
    "kpipe = pipeline.make_pipeline(feature_extraction.text.CountVectorizer(), cluster.KMeans(init='k-means++'))\n",
    "kpara = dict(kmeans__n_clusters=sc.stats.randint(1,335+1))\n",
    "rkp=model_selection.RandomizedSearchCV(kpipe, kpara, cv=5, n_jobs=-1, n_iter=100, verbose=1, error_score=0)\n",
    "rkp.fit(tot['text'])"
   ]
  },
  {
   "cell_type": "code",
   "execution_count": 1331,
   "metadata": {
    "collapsed": false
   },
   "outputs": [
    {
     "data": {
      "text/plain": [
       "(-108.25772261623327,\n",
       " {'kmeans__n_clusters': 207},\n",
       " Pipeline(steps=[('countvectorizer', CountVectorizer(analyzer='word', binary=False, decode_error='strict',\n",
       "         dtype=<class 'numpy.int64'>, encoding='utf-8', input='content',\n",
       "         lowercase=True, max_df=1.0, max_features=None, min_df=1,\n",
       "         ngram_range=(1, 1), preprocessor=None, stop_words=None,\n",
       "   ...7, n_init=10, n_jobs=1, precompute_distances='auto',\n",
       "     random_state=None, tol=0.0001, verbose=0))]))"
      ]
     },
     "execution_count": 1331,
     "metadata": {},
     "output_type": "execute_result"
    }
   ],
   "source": [
    "rkp.best_score_, rkp.best_params_, rkp.best_estimator_, #list(rkp.cv_results_['param_kmeans__n_clusters'])\n",
    "#rkp.best_estimator_.predict(['horriblesubs show by rock 720p mkv',])"
   ]
  },
  {
   "cell_type": "code",
   "execution_count": 1300,
   "metadata": {
    "collapsed": false
   },
   "outputs": [
    {
     "data": {
      "text/plain": [
       "[<matplotlib.lines.Line2D at 0x7ff561df1c88>]"
      ]
     },
     "execution_count": 1300,
     "metadata": {},
     "output_type": "execute_result"
    },
    {
     "data": {
      "image/png": "[encoded data removed]",
      "text/plain": [
       "<matplotlib.figure.Figure at 0x7ff561ab7a90>"
      ]
     },
     "metadata": {},
     "output_type": "display_data"
    }
   ],
   "source": [
    "plt.plot(list(rkp.cv_results_['param_kmeans__n_clusters']), rkp.cv_results_['mean_test_score'], '.')"
   ]
  },
  {
   "cell_type": "markdown",
   "metadata": {},
   "source": [
    "pd0 = dict(activation=['identity', 'logistic', 'tanh', 'relu'], solver=['lbfgs','adam','sgd'], hidden_layer_sizes=[(10,),(30,)*2,(30,)*3,(30,)*4,(30,)*5,(20,),(50,),(100,)],alpha=sc.stats.expon(scale=1e-5), learning_rate_init=sc.stats.expon(scale=0.001))\n",
    "pd1 = dict(beta_1=sc.stats.uniform(scale=1),\n",
    "    beta_2=sc.stats.uniform(scale=1), \n",
    "     epsilon=sc.stats.expon(scale=1e-08),\n",
    "     learning_rate_init=sc.stats.expon(scale=0.001),\n",
    "     momentum=sc.stats.uniform(scale=1),\n",
    "     power_t=sc.stats.expon(scale=0.5),\n",
    "     tol=sc.stats.expon(scale=0.0001),\n",
    "     validation_fraction=sc.stats.expon(scale=0.1)\n",
    "          )\n",
    "pd1.update(pd0)"
   ]
  },
  {
   "cell_type": "markdown",
   "metadata": {},
   "source": [
    "pd = dict(activation=['identity', 'logistic', 'tanh', 'relu'],\n",
    "          solver=['lbfgs','adam'],\n",
    "          hidden_layer_sizes=[(25,)*x for x in range(1,7)]+[(250*x,) for x in range(1,4)]+[(1,)*100])\n",
    "\n",
    "rclf = model_selection.RandomizedSearchCV(neural_network.MLPClassifier(max_iter=10000, learning_rate='adaptive'),\n",
    "                                          pd, \n",
    "                                          cv=5, \n",
    "                                          n_jobs=-1,\n",
    "                                          n_iter=10)\n",
    "rclf.fit(X,r)"
   ]
  },
  {
   "cell_type": "markdown",
   "metadata": {},
   "source": [
    "clfr=rclf.best_estimator_\n",
    "rclf.best_params_, rclf.best_score_, rclf.cv_results_['mean_test_score']"
   ]
  },
  {
   "cell_type": "markdown",
   "metadata": {},
   "source": [
    "with open('surprisingly_good_random_estimator.pkl', 'wb') as f:\n",
    "    pickle.dump(rrclf.best_estimator_, f)"
   ]
  },
  {
   "cell_type": "markdown",
   "metadata": {
    "collapsed": true
   },
   "source": [
    "with open('best_random_estimator.pkl', 'rb') as f:\n",
    "    clfb=pickle.load(f)"
   ]
  },
  {
   "cell_type": "code",
   "execution_count": 1301,
   "metadata": {
    "collapsed": false
   },
   "outputs": [
    {
     "data": {
      "text/plain": [
       "(0.90767507002801118, 0.04782640632679068)"
      ]
     },
     "execution_count": 1301,
     "metadata": {},
     "output_type": "execute_result"
    }
   ],
   "source": [
    "res=model_selection.cross_val_score(cvrclf, tot['text'], r, cv=5)\n",
    "(sc.mean(res), sc.std(res))"
   ]
  },
  {
   "cell_type": "code",
   "execution_count": 1302,
   "metadata": {
    "collapsed": false
   },
   "outputs": [
    {
     "data": {
      "text/plain": [
       "(Pipeline(steps=[('countvectorizer', CountVectorizer(analyzer='word', binary=False, decode_error='strict',\n",
       "         dtype=<class 'numpy.int64'>, encoding='utf-8', input='content',\n",
       "         lowercase=True, max_df=1.0, max_features=None, min_df=1,\n",
       "         ngram_range=(1, 2), preprocessor=None, stop_words=None,\n",
       "   ...=True, solver='adam', tol=0.0001, validation_fraction=0.1,\n",
       "        verbose=False, warm_start=False))]),\n",
       " MLPClassifier(activation='relu', alpha=0.0001, batch_size='auto', beta_1=0.9,\n",
       "        beta_2=0.999, early_stopping=False, epsilon=1e-08,\n",
       "        hidden_layer_sizes=(100,), learning_rate='constant',\n",
       "        learning_rate_init=0.001, max_iter=2000, momentum=0.9,\n",
       "        nesterovs_momentum=True, power_t=0.5, random_state=None,\n",
       "        shuffle=True, solver='adam', tol=0.0001, validation_fraction=0.1,\n",
       "        verbose=False, warm_start=False))"
      ]
     },
     "execution_count": 1302,
     "metadata": {},
     "output_type": "execute_result"
    }
   ],
   "source": [
    "clf = neural_network.MLPClassifier(max_iter=2000)\n",
    "nfeat=X.shape[1]\n",
    "ncomp = int(nfeat*.9)\n",
    "pipe = pipeline.make_pipeline(\n",
    "    feature_extraction.text.CountVectorizer(ngram_range=(1,2)), \n",
    "    decomposition.TruncatedSVD(n_components=ncomp), \n",
    "    neural_network.MLPClassifier(hidden_layer_sizes=(ncomp//2,), max_iter=2000)\n",
    ")\n",
    "pipe.fit(tot['text'], r),clf.fit(X,r)"
   ]
  },
  {
   "cell_type": "code",
   "execution_count": 1303,
   "metadata": {
    "collapsed": false
   },
   "outputs": [
    {
     "data": {
      "text/plain": [
       "(0.99999999999999933, 404, 363)"
      ]
     },
     "execution_count": 1303,
     "metadata": {},
     "output_type": "execute_result"
    }
   ],
   "source": [
    "sum(pipe.named_steps['truncatedsvd'].explained_variance_ratio_), nfeat, ncomp"
   ]
  },
  {
   "cell_type": "code",
   "execution_count": 1304,
   "metadata": {
    "collapsed": false
   },
   "outputs": [
    {
     "data": {
      "text/plain": [
       "(0.95035460992907805, 0.99290780141843971)"
      ]
     },
     "execution_count": 1304,
     "metadata": {},
     "output_type": "execute_result"
    }
   ],
   "source": [
    "#clfr.score(X,r)\n",
    "cvrclf.score(tot['text'],r), clf.score(X,r)"
   ]
  },
  {
   "cell_type": "code",
   "execution_count": 1305,
   "metadata": {
    "collapsed": false
   },
   "outputs": [],
   "source": [
    "tx=[' '.join(re.findall('[a-z]+|[0-9]+p',x['title'].lower())) for x in f1+f2+f3+f4]\n",
    "#tx=[x['title'] for x in ft]\n",
    "\n",
    "#tx.append('sankyuu shuumatsu no izetta')"
   ]
  },
  {
   "cell_type": "code",
   "execution_count": 1306,
   "metadata": {
    "collapsed": true
   },
   "outputs": [],
   "source": [
    "m2 = cvr.transform(tx)"
   ]
  },
  {
   "cell_type": "code",
   "execution_count": 1307,
   "metadata": {
    "collapsed": false
   },
   "outputs": [],
   "source": [
    "X2 = m2.toarray()"
   ]
  },
  {
   "cell_type": "code",
   "execution_count": 1308,
   "metadata": {
    "collapsed": false
   },
   "outputs": [],
   "source": [
    "#pred=rclf.best_estimator_.predict(X2)\n",
    "pred=cvrclf.predict(tx)\n",
    "pred2=clf.predict(X2)\n",
    "pred3=pipe.predict(tx)"
   ]
  },
  {
   "cell_type": "code",
   "execution_count": 1309,
   "metadata": {
    "collapsed": false
   },
   "outputs": [],
   "source": [
    "res=[x for i,x in enumerate(tx) if pred[i]==1]"
   ]
  },
  {
   "cell_type": "code",
   "execution_count": 1310,
   "metadata": {
    "collapsed": false
   },
   "outputs": [],
   "source": [
    "res1=[x for i,x in enumerate(tx) if x in list(my_titles['text'])]\n",
    "#ress=pd.Series(tx)\n",
    "#ress[~my_titles['text'].isin(ress)]\n",
    "#ress.select(lambda x: x in my_titles['text'])"
   ]
  },
  {
   "cell_type": "code",
   "execution_count": 1311,
   "metadata": {
    "collapsed": false
   },
   "outputs": [],
   "source": [
    "res2=[x for i,x in enumerate(tx) if pred2[i]==1]"
   ]
  },
  {
   "cell_type": "code",
   "execution_count": 1312,
   "metadata": {
    "collapsed": false
   },
   "outputs": [],
   "source": [
    "res3=[x for i,x in enumerate(tx) if pred3[i]==1]"
   ]
  },
  {
   "cell_type": "code",
   "execution_count": 1313,
   "metadata": {
    "collapsed": false
   },
   "outputs": [
    {
     "data": {
      "text/plain": [
       "[0, 0, 1, 0]"
      ]
     },
     "execution_count": 1313,
     "metadata": {},
     "output_type": "execute_result"
    }
   ],
   "source": [
    "[len([x for x in y if x not in res1]) for y in [res1, res, res2, res3]]"
   ]
  },
  {
   "cell_type": "code",
   "execution_count": 1321,
   "metadata": {
    "collapsed": false
   },
   "outputs": [
    {
     "data": {
      "text/plain": [
       "['horriblesubs girlish number 720p mkv',\n",
       " 'horriblesubs drifters v 720p mkv',\n",
       " 'horriblesubs brave witches 720p mkv',\n",
       " 'doremi sai chicchana mune no tokimeki s episode x mkv',\n",
       " 'doremi sai chicchana mune no tokimeki s episode x e e e mkv',\n",
       " 'ctshiryuu brave witches 720p h aac b d mkv',\n",
       " 'horriblesubs girlish number 720p mkv',\n",
       " 'horriblesubs drifters v 720p mkv',\n",
       " 'horriblesubs brave witches 720p mkv',\n",
       " 'horriblesubs mahou shoujo ikusei keikaku 720p mkv',\n",
       " 'horriblesubs shuumatsu no izetta 720p mkv',\n",
       " 'horriblesubs mob psycho 720p mkv',\n",
       " 'horriblesubs mahou shoujo ikusei keikaku 720p mkv']"
      ]
     },
     "execution_count": 1321,
     "metadata": {},
     "output_type": "execute_result"
    }
   ],
   "source": [
    "[x for x in res1 if x in res1]"
   ]
  },
  {
   "cell_type": "code",
   "execution_count": 1315,
   "metadata": {
    "collapsed": false
   },
   "outputs": [
    {
     "data": {
      "text/plain": [
       "array([[ 0.9967298,  0.0032702]])"
      ]
     },
     "execution_count": 1315,
     "metadata": {},
     "output_type": "execute_result"
    }
   ],
   "source": [
    "pipe.predict_proba(['chihiro taboo tattoo 720p hi 10p aac e bbee'])"
   ]
  },
  {
   "cell_type": "code",
   "execution_count": 1316,
   "metadata": {
    "collapsed": false
   },
   "outputs": [
    {
     "data": {
      "text/plain": [
       "(MLPClassifier(activation='relu', alpha=0.0001, batch_size='auto', beta_1=0.9,\n",
       "        beta_2=0.999, early_stopping=False, epsilon=1e-08,\n",
       "        hidden_layer_sizes=(1000,), learning_rate='constant',\n",
       "        learning_rate_init=0.001, max_iter=2000, momentum=0.9,\n",
       "        nesterovs_momentum=True, power_t=0.5, random_state=None,\n",
       "        shuffle=True, solver='adam', tol=0.0001, validation_fraction=0.1,\n",
       "        verbose=False, warm_start=False), 404, 121, 1000)"
      ]
     },
     "execution_count": 1316,
     "metadata": {},
     "output_type": "execute_result"
    }
   ],
   "source": [
    "ncomp=int(nfeat*.3)\n",
    "nhid=1000#int(ncomp/2)\n",
    "pipe2 = pipeline.make_pipeline(\n",
    "    feature_extraction.text.CountVectorizer(ngram_range=(1,2)), \n",
    "    #decomposition.TruncatedSVD(n_components=ncomp)\n",
    ")\n",
    "pnn = neural_network.MLPClassifier(hidden_layer_sizes=(nhid,), max_iter=2000)\n",
    "X3 = pipe2.fit_transform(tot['text'])\n",
    "#pnn.partial_fit(X,r, classes=sc.unique(r))\n",
    "pnn.fit(X3,r), nfeat, ncomp, nhid"
   ]
  },
  {
   "cell_type": "code",
   "execution_count": 1317,
   "metadata": {
    "collapsed": false
   },
   "outputs": [
    {
     "data": {
      "text/plain": [
       "(['chihiro occultic nine 720p hi 10p aac a a b',\n",
       "  'horriblesubs show by rock s 720p mkv',\n",
       "  'horriblesubs show by rock s 720p mkv'],\n",
       " 3)"
      ]
     },
     "execution_count": 1317,
     "metadata": {},
     "output_type": "execute_result"
    }
   ],
   "source": [
    "pred3=pnn.predict(pipe2.transform(tx))\n",
    "res3=[x for i,x in enumerate(tx) if pred3[i]==1 and x not in res1]\n",
    "res3, len(res3)"
   ]
  },
  {
   "cell_type": "code",
   "execution_count": 1318,
   "metadata": {
    "collapsed": false
   },
   "outputs": [
    {
     "name": "stdout",
     "output_type": "stream",
     "text": [
      "0\n"
     ]
    }
   ],
   "source": [
    "#err = ['kaze no matasaburou 720p orphan',]\n",
    "#err = ['pyon chiba pedal 720p mkv',]\n",
    "err = ['chihiro taboo tattoo 720p hi 10p aac e bbee',]\n",
    "#err = ['horriblesubs brave witches 480p mkv',]\n",
    "#err = ['horriblesubs girlish number 1080p mkv',]\n",
    "#err = ['horriblesubs show by rock s 480p mkv',]\n",
    "#err = ['horriblesubs mahou shoujo nante mou ii desukara s 720p mkv',]\n",
    "n = 0\n",
    "while pnn.predict(pipe2.transform(err))[0] == 1 and n < 100:\n",
    "    n += 1\n",
    "    pnn.partial_fit(pipe2.transform(err),[0,]*len(err))\n",
    "    print(pnn.predict_proba(pipe2.transform(err)))\n",
    "print(pnn.predict(pipe2.transform(err))[0])"
   ]
  },
  {
   "cell_type": "code",
   "execution_count": 1319,
   "metadata": {
    "collapsed": false
   },
   "outputs": [
    {
     "data": {
      "text/plain": [
       "(['chihiro occultic nine 720p hi 10p aac a a b',\n",
       "  'horriblesubs show by rock s 720p mkv',\n",
       "  'horriblesubs show by rock s 720p mkv'],\n",
       " 1.0,\n",
       " 3)"
      ]
     },
     "execution_count": 1319,
     "metadata": {},
     "output_type": "execute_result"
    }
   ],
   "source": [
    "pred3=pnn.predict(pipe2.transform(tx))\n",
    "res3=[x for i,x in enumerate(tx) if pred3[i]==1 and x not in res1]\n",
    "res3, len([x for i,x in enumerate(tx) if pred3[i]==1 and x in res1])/len(res1), len(res3)"
   ]
  },
  {
   "cell_type": "code",
   "execution_count": null,
   "metadata": {
    "collapsed": true
   },
   "outputs": [],
   "source": []
  }
 ],
 "metadata": {
  "kernelspec": {
   "display_name": "Python 3",
   "language": "python",
   "name": "python3"
  },
  "language_info": {
   "codemirror_mode": {
    "name": "ipython",
    "version": 3
   },
   "file_extension": ".py",
   "mimetype": "text/x-python",
   "name": "python",
   "nbconvert_exporter": "python",
   "pygments_lexer": "ipython3",
   "version": "3.5.2"
  }
 },
 "nbformat": 4,
 "nbformat_minor": 1
}
