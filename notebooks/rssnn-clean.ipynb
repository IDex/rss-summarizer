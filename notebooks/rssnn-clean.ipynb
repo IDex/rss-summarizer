{
 "cells": [
  {
   "cell_type": "code",
   "execution_count": 156,
   "metadata": {
    "collapsed": false
   },
   "outputs": [],
   "source": [
    "import scipy as sc\n",
    "import matplotlib.pyplot as plt\n",
    "import pandas as pd\n",
    "import feedparser as fp\n",
    "import re\n",
    "from collections import Counter\n",
    "from sklearn import feature_extraction, naive_bayes, neural_network, preprocessing, svm"
   ]
  },
  {
   "cell_type": "code",
   "execution_count": 157,
   "metadata": {
    "collapsed": true
   },
   "outputs": [],
   "source": [
    "def print_full(x):\n",
    "    pd.set_option('display.max_rows', len(x))\n",
    "    print(x)\n",
    "    pd.reset_option('display.max_rows')"
   ]
  },
  {
   "cell_type": "code",
   "execution_count": 158,
   "metadata": {
    "collapsed": true
   },
   "outputs": [],
   "source": [
    "#f=fp.parse('https://www.nyaa.se/?page=rss&cats=1_37&term=01+720&filter=2')\n",
    "#f2=fp.parse('https://www.tokyotosho.info/rss.php?filter=1&entries=450')\n",
    "#fx=fp.parse('https://www.nyaa.se/?page=rss&cats=1_37&term=horri+720+01')"
   ]
  },
  {
   "cell_type": "code",
   "execution_count": 159,
   "metadata": {
    "collapsed": true
   },
   "outputs": [],
   "source": [
    "my=\"\"\"[HorribleSubs] Shuumatsu no Izetta - 08 [720p].mkv\n",
    "[HorribleSubs] Shuumatsu no Izetta - 07 [720p].mkv\n",
    "[HorribleSubs] Shuumatsu no Izetta - 10 [720p].mkv\n",
    "[HorribleSubs] Shuumatsu no Izetta - 09 [720p].mkv\n",
    "[IEgg] Fate／Kaleid Liner Prisma Illya Zwei! Character Song Prisma☆Love Parade Vol.2 (320K+BK).zip\n",
    "[IEgg] Fate／Kaleid Liner Prisma Illya Zwei! Character Song Prisma☆Love Parade Vol.1 (320K+BK).zip\n",
    "Discworld\n",
    "[얼티메이트] [150128] TVアニメ「Fate／kaleid liner プリズマ☆イリヤ ツヴァイ！」キャラクターソング Prisma☆Love Parade Vol.3 (320K+BK)\n",
    "[Nipponsei] Fate Kaleid Liner Prisma Illya Original Soundtrack.zip\n",
    "[HorribleSubs] Fate Kaleid Liner PRISMA ILLYA 3rei!! - 11 [720p].mkv\n",
    "[HorribleSubs] Fate Kaleid Liner PRISMA ILLYA 3rei!! - 12 [720p].mkv\n",
    "[HorribleSubs] Show By Rock!! - 01 [720p].mkv\n",
    "[HorribleSubs] Amanchu! - 07 [720p].mkv\n",
    "[HorribleSubs] Amanchu! - 09 [720p].mkv\n",
    "[HorribleSubs] Amanchu! - 08 [720p].mkv\n",
    "[HorribleSubs] Amanchu! - 10 [720p].mkv\n",
    "[SanKyuu] Hikaru no Go [BD 720p AAC]\n",
    "Log_Horizon_v01-08-txt.zip\n",
    "FELT\n",
    "[HorribleSubs] Drifters - 02 [720p].mkv\n",
    "[HorribleSubs] Drifters - 03 [720p].mkv\n",
    "[HorribleSubs] Drifters - 04 [720p].mkv\n",
    "[HorribleSubs] Drifters - 05 [720p].mkv\n",
    "[HorribleSubs] Re Zero kara Hajimeru Isekai Seikatsu - 01A [720p].mkv\n",
    "[HorribleSubs] Girlish Number - 01 [720p].mkv\n",
    "[HorribleSubs] Brave Witches - 01 [720p].mkv\n",
    "[HorribleSubs] Mahou Shoujo Ikusei Keikaku - 01 [720p].mkv\n",
    "[HorribleSubs] Mob Psycho 100 - 01 [720p].mkv\n",
    "[HorribleSubs] Drifters - 01v2 [720p].mkv\n",
    "[HorribleSubs] Shuumatsu no Izetta - 01 [720p].mkv\"\"\".split('\\n')"
   ]
  },
  {
   "cell_type": "code",
   "execution_count": 160,
   "metadata": {
    "collapsed": false
   },
   "outputs": [],
   "source": [
    "my_titles = pd.DataFrame([(' '.join(re.findall('[a-z]+',x.lower())),1) for x in my], columns=['text','class'])"
   ]
  },
  {
   "cell_type": "code",
   "execution_count": 161,
   "metadata": {
    "collapsed": false
   },
   "outputs": [
    {
     "name": "stdout",
     "output_type": "stream",
     "text": [
      "                                                  text  class\n",
      "0    fullmetal alchemist brotherhood bd p flac dd f...      0\n",
      "1              hatsuyuki dragon ball kai bd p f b f mp      0\n",
      "2                  hatsuyuki dragon ball kai bd p a mp      0\n",
      "3                hatsuyuki dragon ball kai bd p f d mp      0\n",
      "4                     commie zaregoto bd p aac c f mkv      0\n",
      "5    horriblesubs natsume yuujinchou nyanko sensei ...      0\n",
      "6    inazuma eleven outer code p webrip softsubbed ...      0\n",
      "7    chihiro amaterasu rewrite vol blu ray p hi p flac      0\n",
      "8                 hatsuyuki dragon ball kai bd p b mkv      0\n",
      "9          hatsuyuki dragon ball kai bd p b dd c f mkv      0\n",
      "10            hatsuyuki dragon ball kai bd p a a f mkv      0\n",
      "11      sallysubs joukamachi no dandelion vol bd p aac      0\n",
      "12                sallysubs qualidea code vol bd p aac      0\n",
      "13           fff unbreakable machine doll vol bd p aac      0\n",
      "14   doremi sai chicchana mune no tokimeki s episod...      0\n",
      "15   horriblesubs kuroko s basketball winter cup hi...      0\n",
      "16                  hatsuyuki dragon ball kai p cba mp      0\n",
      "17                  hatsuyuki dragon ball kai p b c mp      0\n",
      "18        sallysubs chihiro mayoiga vol bd p hi p flac      0\n",
      "19                frozen evil yawara p blu ray f c mkv      0\n",
      "20             hatsuyuki dragon ball kai bd p fd c mkv      0\n",
      "21                hatsuyuki dragon ball kai bd p f mkv      0\n",
      "22              chihiro occultic nine p hi p aac a a b      0\n",
      "23   doremi sai chicchana mune no tokimeki s episod...      0\n",
      "24                      fff akame ga kill vol bd p aac      0\n",
      "25   impatience mahou shoujo nante mou ii desu kara...      0\n",
      "26             ctshiryuu brave witches p h aac b d mkv      0\n",
      "27        horriblesubs nen d gumi glass no kamen p mkv      0\n",
      "28              horriblesubs nobunaga no shinobi p mkv      0\n",
      "29                 fff love live sunshine vol bd p aac      0\n",
      "..                                                 ...    ...\n",
      "290         horriblesubs danganronpa despair arc p mkv      0\n",
      "291        horriblesubs mahou shoujo naria girls p mkv      0\n",
      "293          horriblesubs danganronpa future arc p mkv      0\n",
      "294  horriblesubs regalia the three sacred stars v ...      0\n",
      "295       horriblesubs tales of zestiria the x v p mkv      0\n",
      "296          horriblesubs saiki kusuo no psi nan p mkv      0\n",
      "297                   horriblesubs active raid s p mkv      0\n",
      "298                              horriblesubs bakuon p      0\n",
      "299                           horriblesubs kuma miko p      0\n",
      "300                     horriblesubs ange vierge p mkv      0\n",
      "301     horriblesubs hitori no shita the outcast p mkv      0\n",
      "302                   horriblesubs qualidea code p mkv      0\n",
      "303                       horriblesubs handa kun p mkv      0\n",
      "304              horriblesubs time travel shoujo p mkv      0\n",
      "305                            horriblesubs days p mkv      0\n",
      "306            horriblesubs alderamin on the sky p mkv      0\n",
      "308                     horriblesubs planetarian p mkv      0\n",
      "309  horriblesubs kono bijutsubu ni wa mondai ga ar...      0\n",
      "310  horriblesubs binan koukou chikyuu bouei bu lov...      0\n",
      "312                         horriblesubs ozmafia p mkv      0\n",
      "313          horriblesubs tsukiuta the animation p mkv      0\n",
      "314              horriblesubs scared rider xechs p mkv      0\n",
      "315                horriblesubs masou gakuen hxh p mkv      0\n",
      "316                        horriblesubs new game p mkv      0\n",
      "317                         horriblesubs servamp p mkv      0\n",
      "318        horriblesubs fudanshi koukou seikatsu p mkv      0\n",
      "319                    horriblesubs cheer danshi p mkv      0\n",
      "320                    horriblesubs taboo tattoo p mkv      0\n",
      "321               horriblesubs d gray man hallow p mkv      0\n",
      "322              horriblesubs show by rock short p mkv      0\n",
      "\n",
      "[301 rows x 2 columns]\n"
     ]
    }
   ],
   "source": [
    "ft=f.entries+f2.entries+fx.entries\n",
    "titles=pd.DataFrame([(' '.join(re.findall('[a-z]+',x['title'].lower())),0) for x in ft], columns=['text','class'])\n",
    "\n",
    "tot=titles[~titles['text'].isin(my_titles['text'])].dropna()\n",
    "print(tot)\n",
    "tot = my_titles.append(tot)\n",
    "tot['class'] = tot['class'].astype('int64')"
   ]
  },
  {
   "cell_type": "code",
   "execution_count": 162,
   "metadata": {
    "collapsed": false
   },
   "outputs": [],
   "source": [
    "cvr=feature_extraction.text.CountVectorizer(ngram_range=(1,2))"
   ]
  },
  {
   "cell_type": "code",
   "execution_count": 163,
   "metadata": {
    "collapsed": false
   },
   "outputs": [],
   "source": [
    "m=cvr.fit_transform(tot['text'])"
   ]
  },
  {
   "cell_type": "code",
   "execution_count": 164,
   "metadata": {
    "collapsed": false
   },
   "outputs": [],
   "source": [
    "X=m.toarray()\n",
    "r=tot['class'].values"
   ]
  },
  {
   "cell_type": "code",
   "execution_count": 165,
   "metadata": {
    "collapsed": false
   },
   "outputs": [
    {
     "data": {
      "text/plain": [
       "MLPClassifier(activation='relu', alpha=0.0001, batch_size='auto', beta_1=0.9,\n",
       "       beta_2=0.999, early_stopping=False, epsilon=1e-08,\n",
       "       hidden_layer_sizes=(100,), learning_rate='constant',\n",
       "       learning_rate_init=0.001, max_iter=1000000, momentum=0.9,\n",
       "       nesterovs_momentum=True, power_t=0.5, random_state=None,\n",
       "       shuffle=True, solver='adam', tol=0.0001, validation_fraction=0.1,\n",
       "       verbose=False, warm_start=False)"
      ]
     },
     "execution_count": 165,
     "metadata": {},
     "output_type": "execute_result"
    }
   ],
   "source": [
    "clf=neural_network.MLPClassifier(max_iter=1000000)\n",
    "clf.fit(X,r)"
   ]
  },
  {
   "cell_type": "code",
   "execution_count": 166,
   "metadata": {
    "collapsed": false
   },
   "outputs": [
    {
     "data": {
      "text/plain": [
       "0.99704142011834318"
      ]
     },
     "execution_count": 166,
     "metadata": {},
     "output_type": "execute_result"
    }
   ],
   "source": [
    "sum(clf.predict(X)==r)/len(r)"
   ]
  },
  {
   "cell_type": "code",
   "execution_count": 167,
   "metadata": {
    "collapsed": false
   },
   "outputs": [
    {
     "data": {
      "text/plain": [
       "array([1, 1, 1, 1, 1, 1, 1, 1, 1, 1, 1, 1, 0, 1, 1, 1, 1, 1, 1, 1, 1, 1, 1,\n",
       "       1, 1, 1, 1, 1, 1, 1, 1, 1, 1, 1, 1, 1, 1, 0, 0, 0, 0, 0, 0, 0, 0, 0,\n",
       "       0, 0, 0, 0, 0, 0, 0, 0, 0, 0, 0, 0, 0, 0, 0, 0, 0, 0, 0, 0, 0, 0, 0,\n",
       "       0, 0, 0, 0, 0, 0, 0, 0, 0, 0, 0, 0, 0, 0, 0, 0, 0, 0, 0, 0, 0, 0, 0,\n",
       "       0, 0, 0, 0, 0, 0, 0, 0, 0, 0, 0, 0, 0, 0, 0, 0, 0, 0, 0, 0, 0, 0, 0,\n",
       "       0, 0, 0, 0, 0, 0, 0, 0, 0, 0, 0, 0, 0, 0, 0, 0, 0, 0, 0, 0, 0, 0, 0,\n",
       "       0, 0, 0, 0, 0, 0, 0, 0, 0, 0, 0, 0, 0, 0, 0, 0, 0, 0, 0, 0, 0, 0, 0,\n",
       "       0, 0, 0, 0, 0, 0, 0, 0, 0, 0, 0, 0, 0, 0, 0, 0, 0, 0, 0, 0, 0, 0, 0,\n",
       "       0, 0, 0, 0, 0, 0, 0, 0, 0, 0, 0, 0, 0, 0, 0, 0, 0, 0, 0, 0, 0, 0, 0,\n",
       "       0, 0, 0, 0, 0, 0, 0, 0, 0, 0, 0, 0, 0, 0, 0, 0, 0, 0, 0, 0, 0, 0, 0,\n",
       "       0, 0, 0, 0, 0, 0, 0, 0, 0, 0, 0, 0, 0, 0, 0, 0, 0, 0, 0, 0, 0, 0, 0,\n",
       "       0, 0, 0, 0, 0, 0, 0, 0, 0, 0, 0, 0, 0, 0, 0, 0, 0, 0, 0, 0, 0, 0, 0,\n",
       "       0, 0, 0, 0, 0, 0, 0, 0, 0, 0, 0, 0, 0, 0, 0, 0, 0, 0, 0, 0, 0, 0, 0,\n",
       "       0, 0, 0, 0, 0, 0, 0, 0, 0, 0, 0, 0, 0, 0, 0, 0, 0, 0, 0, 0, 0, 0, 0,\n",
       "       0, 0, 0, 0, 0, 0, 0, 0, 0, 0, 0, 0, 0, 0, 0, 0])"
      ]
     },
     "execution_count": 167,
     "metadata": {},
     "output_type": "execute_result"
    }
   ],
   "source": [
    "clf.predict(X)"
   ]
  },
  {
   "cell_type": "code",
   "execution_count": 168,
   "metadata": {
    "collapsed": false
   },
   "outputs": [],
   "source": [
    "tx=[' '.join(re.findall('[a-z]+',x['title'].lower())) for x in ft]"
   ]
  },
  {
   "cell_type": "code",
   "execution_count": 169,
   "metadata": {
    "collapsed": true
   },
   "outputs": [],
   "source": [
    "m2 = cvr.transform(tx)"
   ]
  },
  {
   "cell_type": "code",
   "execution_count": 170,
   "metadata": {
    "collapsed": false
   },
   "outputs": [],
   "source": [
    "X2 = m2.toarray()"
   ]
  },
  {
   "cell_type": "code",
   "execution_count": 171,
   "metadata": {
    "collapsed": false
   },
   "outputs": [],
   "source": [
    "pred=clf.predict(X2)"
   ]
  },
  {
   "cell_type": "code",
   "execution_count": 172,
   "metadata": {
    "collapsed": false
   },
   "outputs": [],
   "source": [
    "res=[x for i,x in enumerate(tx) if pred[i]==1]"
   ]
  },
  {
   "cell_type": "code",
   "execution_count": 173,
   "metadata": {
    "collapsed": false
   },
   "outputs": [
    {
     "data": {
      "text/plain": [
       "['horriblesubs mob psycho p mkv',\n",
       " 'horriblesubs drifters p mkv',\n",
       " 'horriblesubs drifters v p mkv',\n",
       " 'horriblesubs girlish number p mkv',\n",
       " 'horriblesubs amanchu p mkv',\n",
       " 'horriblesubs mahou shoujo ikusei keikaku p mkv',\n",
       " 'horriblesubs shuumatsu no izetta p mkv',\n",
       " 'horriblesubs brave witches p mkv',\n",
       " 'horriblesubs fate kaleid liner prisma illya rei p mkv']"
      ]
     },
     "execution_count": 173,
     "metadata": {},
     "output_type": "execute_result"
    }
   ],
   "source": [
    "list(set(res))"
   ]
  },
  {
   "cell_type": "code",
   "execution_count": null,
   "metadata": {
    "collapsed": true
   },
   "outputs": [],
   "source": []
  }
 ],
 "metadata": {
  "kernelspec": {
   "display_name": "Python 3",
   "language": "python",
   "name": "python3"
  },
  "language_info": {
   "codemirror_mode": {
    "name": "ipython",
    "version": 3
   },
   "file_extension": ".py",
   "mimetype": "text/x-python",
   "name": "python",
   "nbconvert_exporter": "python",
   "pygments_lexer": "ipython3",
   "version": "3.5.2"
  }
 },
 "nbformat": 4,
 "nbformat_minor": 1
}
